{
 "cells": [
  {
   "cell_type": "code",
   "execution_count": 1,
   "metadata": {},
   "outputs": [
    {
     "name": "stdout",
     "output_type": "stream",
     "text": [
      "Collecting torch\n",
      "  Using cached torch-1.7.0-cp38-none-macosx_10_9_x86_64.whl (108.1 MB)\n",
      "Processing /Users/anehls/Library/Caches/pip/wheels/8e/70/28/3d6ccd6e315f65f245da085482a2e1c7d14b90b30f239e2cf4/future-0.18.2-py3-none-any.whl\n",
      "Collecting dataclasses\n",
      "  Using cached dataclasses-0.6-py3-none-any.whl (14 kB)\n",
      "Collecting typing-extensions\n",
      "  Using cached typing_extensions-3.7.4.3-py3-none-any.whl (22 kB)\n",
      "Collecting numpy\n",
      "  Using cached numpy-1.19.4-cp38-cp38-macosx_10_9_x86_64.whl (15.3 MB)\n",
      "Installing collected packages: future, dataclasses, typing-extensions, numpy, torch\n",
      "Successfully installed dataclasses-0.6 future-0.18.2 numpy-1.19.4 torch-1.7.0 typing-extensions-3.7.4.3\n",
      "Collecting torchvision\n",
      "  Using cached torchvision-0.8.1-cp38-cp38-macosx_10_9_x86_64.whl (1.0 MB)\n",
      "Collecting pillow>=4.1.1\n",
      "  Using cached Pillow-8.0.1-cp38-cp38-macosx_10_10_x86_64.whl (2.2 MB)\n",
      "Requirement already satisfied: numpy in /Applications/anaconda3/envs/pytorch_gpu/lib/python3.8/site-packages (from torchvision) (1.19.4)\n",
      "Requirement already satisfied: torch==1.7.0 in /Applications/anaconda3/envs/pytorch_gpu/lib/python3.8/site-packages (from torchvision) (1.7.0)\n",
      "Requirement already satisfied: dataclasses in /Applications/anaconda3/envs/pytorch_gpu/lib/python3.8/site-packages (from torch==1.7.0->torchvision) (0.6)\n",
      "Requirement already satisfied: future in /Applications/anaconda3/envs/pytorch_gpu/lib/python3.8/site-packages (from torch==1.7.0->torchvision) (0.18.2)\n",
      "Requirement already satisfied: typing-extensions in /Applications/anaconda3/envs/pytorch_gpu/lib/python3.8/site-packages (from torch==1.7.0->torchvision) (3.7.4.3)\n",
      "Installing collected packages: pillow, torchvision\n",
      "Successfully installed pillow-8.0.1 torchvision-0.8.1\n"
     ]
    }
   ],
   "source": [
    "# Install a pip package in the current Jupyter kernel\n",
    "import sys\n",
    "!{sys.executable} -m pip install torch\n",
    "!{sys.executable} -m pip install torchvision"
   ]
  },
  {
   "cell_type": "code",
   "execution_count": 2,
   "metadata": {},
   "outputs": [
    {
     "data": {
      "text/plain": [
       "False"
      ]
     },
     "execution_count": 2,
     "metadata": {},
     "output_type": "execute_result"
    }
   ],
   "source": [
    "import torch\n",
    "torch.cuda.is_available()"
   ]
  },
  {
   "cell_type": "code",
   "execution_count": null,
   "metadata": {},
   "outputs": [],
   "source": []
  }
 ],
 "metadata": {
  "kernelspec": {
   "display_name": "Python 3",
   "language": "python",
   "name": "python3"
  },
  "language_info": {
   "codemirror_mode": {
    "name": "ipython",
    "version": 3
   },
   "file_extension": ".py",
   "mimetype": "text/x-python",
   "name": "python",
   "nbconvert_exporter": "python",
   "pygments_lexer": "ipython3",
   "version": "3.8.5"
  }
 },
 "nbformat": 4,
 "nbformat_minor": 4
}
